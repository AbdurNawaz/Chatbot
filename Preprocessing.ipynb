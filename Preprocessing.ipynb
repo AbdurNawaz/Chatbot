{
 "cells": [
  {
   "cell_type": "code",
   "execution_count": 30,
   "metadata": {},
   "outputs": [],
   "source": [
    "import os\n",
    "import json\n",
    "import nltk\n",
    "from gensim import models\n",
    "import numpy as np\n",
    "from gensim import corpora, models, similarities\n",
    "import pickle\n",
    "import numpy as np\n",
    "\n",
    "model = models.Word2Vec.load('word2vec.bin')"
   ]
  },
  {
   "cell_type": "code",
   "execution_count": 33,
   "metadata": {},
   "outputs": [],
   "source": [
    "with open('conversation.json', 'r') as f:\n",
    "    data = json.load(f)\n",
    "    cor = data[\"conversations\"]"
   ]
  },
  {
   "cell_type": "code",
   "execution_count": 34,
   "metadata": {},
   "outputs": [],
   "source": [
    "#Seperating Questions and answers into x and y respectively\n",
    "x = []\n",
    "y = []\n",
    "\n",
    "for i in range(len(cor)):\n",
    "    for j in range(len(cor[i])-1):\n",
    "        x.append(cor[i][j])\n",
    "        y.append(cor[i][j+1])"
   ]
  },
  {
   "cell_type": "code",
   "execution_count": 35,
   "metadata": {},
   "outputs": [
    {
     "data": {
      "text/plain": [
       "['Good morning, how are you?',\n",
       " 'I am doing well, how about you?',\n",
       " \"I'm also good.\",\n",
       " \"That's good to hear.\",\n",
       " 'Hello',\n",
       " 'Hi',\n",
       " 'How are you doing?',\n",
       " 'I am doing well.',\n",
       " 'That is good to hear',\n",
       " 'Yes it is.']"
      ]
     },
     "execution_count": 35,
     "metadata": {},
     "output_type": "execute_result"
    }
   ],
   "source": [
    "x[:10]"
   ]
  },
  {
   "cell_type": "code",
   "execution_count": 36,
   "metadata": {},
   "outputs": [
    {
     "data": {
      "text/plain": [
       "['I am doing well, how about you?',\n",
       " \"I'm also good.\",\n",
       " \"That's good to hear.\",\n",
       " 'Yes it is.',\n",
       " 'Hi',\n",
       " 'How are you doing?',\n",
       " 'I am doing well.',\n",
       " 'That is good to hear',\n",
       " 'Yes it is.',\n",
       " 'Can I help you with anything?']"
      ]
     },
     "execution_count": 36,
     "metadata": {},
     "output_type": "execute_result"
    }
   ],
   "source": [
    "y[:10]"
   ]
  },
  {
   "cell_type": "code",
   "execution_count": 37,
   "metadata": {},
   "outputs": [],
   "source": [
    "#Tokenizing all the sentences in the dataset \n",
    "tok_x = []\n",
    "tok_y = []\n",
    "\n",
    "for i in range(len(x)):\n",
    "    tok_x.append(nltk.word_tokenize(x[i].lower()))\n",
    "    tok_y.append(nltk.word_tokenize(y[i].lower()))"
   ]
  },
  {
   "cell_type": "code",
   "execution_count": 38,
   "metadata": {},
   "outputs": [
    {
     "data": {
      "text/plain": [
       "[['good', 'morning', ',', 'how', 'are', 'you', '?'],\n",
       " ['i', 'am', 'doing', 'well', ',', 'how', 'about', 'you', '?'],\n",
       " ['i', \"'m\", 'also', 'good', '.'],\n",
       " ['that', \"'s\", 'good', 'to', 'hear', '.'],\n",
       " ['hello'],\n",
       " ['hi'],\n",
       " ['how', 'are', 'you', 'doing', '?'],\n",
       " ['i', 'am', 'doing', 'well', '.'],\n",
       " ['that', 'is', 'good', 'to', 'hear'],\n",
       " ['yes', 'it', 'is', '.']]"
      ]
     },
     "execution_count": 38,
     "metadata": {},
     "output_type": "execute_result"
    }
   ],
   "source": [
    "tok_x[:10]"
   ]
  },
  {
   "cell_type": "code",
   "execution_count": 47,
   "metadata": {},
   "outputs": [
    {
     "name": "stderr",
     "output_type": "stream",
     "text": [
      "/home/spiringseeker57/anaconda3/lib/python3.7/site-packages/ipykernel_launcher.py:7: DeprecationWarning: Call to deprecated `__getitem__` (Method will be removed in 4.0.0, use self.wv.__getitem__() instead).\n",
      "  import sys\n",
      "/home/spiringseeker57/anaconda3/lib/python3.7/site-packages/ipykernel_launcher.py:12: DeprecationWarning: Call to deprecated `__getitem__` (Method will be removed in 4.0.0, use self.wv.__getitem__() instead).\n",
      "  if sys.path[0] == '':\n"
     ]
    }
   ],
   "source": [
    "#Removing punctuation characters and converting each word into vector using word2vec model\n",
    "\n",
    "vec_x = []\n",
    "vec_y = []\n",
    "from string import punctuation\n",
    "\n",
    "for sent in tok_x:\n",
    "    sentvec = [w for w in sent if w not in punctuation]\n",
    "    sentvec1 = [model[w] for w in sentvec if w in model.wv.vocab]    \n",
    "    vec_x.append(sentvec1)\n",
    "\n",
    "for sent in tok_y:\n",
    "    sentvec = [w for w in sent if w not in punctuation]\n",
    "    sentvec1 = [model[w] for w in sentvec if w in model.wv.vocab]    \n",
    "    vec_y.append(sentvec1)"
   ]
  },
  {
   "cell_type": "code",
   "execution_count": 48,
   "metadata": {},
   "outputs": [],
   "source": [
    "#Clipping each sentence to length 15 and padding with a vector of\n",
    "#ones to th sentences with length<15\n",
    "\n",
    "sentend = np.ones((300,), dtype=np.float32)\n",
    "\n",
    "for tok_sent in vec_x:\n",
    "    tok_sent[14: ] =[]\n",
    "    tok_sent.append(sentend)\n",
    "    \n",
    "for tok_sent in vec_x:\n",
    "    if(len(tok_sent)<15):\n",
    "        for i in range(15-len(tok_sent)):\n",
    "            tok_sent.append(sentend)\n",
    "            \n",
    "for tok_sent in vec_y:\n",
    "    tok_sent[14: ] =[]\n",
    "    tok_sent.append(sentend)\n",
    "    \n",
    "for tok_sent in vec_y:\n",
    "    if(len(tok_sent)<15):\n",
    "        for i in range(15-len(tok_sent)):\n",
    "            tok_sent.append(sentend)"
   ]
  },
  {
   "cell_type": "code",
   "execution_count": 49,
   "metadata": {},
   "outputs": [],
   "source": [
    "#Saving the preprocessed data into a pickle file\n",
    "with open('conversation.pickle','wb') as f:\n",
    "    pickle.dump([vec_x,vec_y],f)"
   ]
  }
 ],
 "metadata": {
  "kernelspec": {
   "display_name": "Python 3",
   "language": "python",
   "name": "python3"
  },
  "language_info": {
   "codemirror_mode": {
    "name": "ipython",
    "version": 3
   },
   "file_extension": ".py",
   "mimetype": "text/x-python",
   "name": "python",
   "nbconvert_exporter": "python",
   "pygments_lexer": "ipython3",
   "version": "3.7.1"
  }
 },
 "nbformat": 4,
 "nbformat_minor": 2
}
