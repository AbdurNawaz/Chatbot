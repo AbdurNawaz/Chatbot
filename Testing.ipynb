{
 "cells": [
  {
   "cell_type": "code",
   "execution_count": null,
   "metadata": {
    "scrolled": true
   },
   "outputs": [],
   "source": [
    "import numpy as np\n",
    "import nltk\n",
    "import gensim\n",
    "from keras.models import load_model\n",
    "import warnings\n",
    "warnings.simplefilter(\"ignore\")"
   ]
  },
  {
   "cell_type": "code",
   "execution_count": null,
   "metadata": {},
   "outputs": [],
   "source": [
    "#Loading our saved model\n",
    "model=load_model(\"LSTM1000.h5\")"
   ]
  },
  {
   "cell_type": "code",
   "execution_count": null,
   "metadata": {},
   "outputs": [],
   "source": [
    "mod = gensim.models.Word2Vec.load('word2vec.bin')"
   ]
  },
  {
   "cell_type": "code",
   "execution_count": null,
   "metadata": {},
   "outputs": [],
   "source": [
    "while True:\n",
    "    x=input(\"Enter the message: \")\n",
    "    sentend=np.ones((300,),dtype=np.float32) \n",
    "\n",
    "    sent=nltk.word_tokenize(x.lower())\n",
    "    sentvec = [mod[w] for w in sent if w in mod.wv.vocab]\n",
    "\n",
    "    sentvec[14:]=[]\n",
    "    sentvec.append(sentend)\n",
    "    if len(sentvec)<15:\n",
    "        for i in range(15-len(sentvec)):\n",
    "            sentvec.append(sentend) \n",
    "    sentvec=np.array([sentvec])\n",
    "    \n",
    "    predictions = model.predict(sentvec)\n",
    "    outputlist=[mod.most_similar([predictions[0][i]])[0][0] for i in range(15)]\n",
    "    r = [\"kleiser\", \"karluah\", \"post-oscar\", \"ballets\"]\n",
    "    out = [outputlist[i] for i in range(15) if outputlist[i] not in r]\n",
    "    output=' '.join(out)\n",
    "    print(\"BOT:\", output)"
   ]
  },
  {
   "cell_type": "code",
   "execution_count": null,
   "metadata": {},
   "outputs": [],
   "source": []
  }
 ],
 "metadata": {
  "kernelspec": {
   "display_name": "Python 3",
   "language": "python",
   "name": "python3"
  },
  "language_info": {
   "codemirror_mode": {
    "name": "ipython",
    "version": 3
   },
   "file_extension": ".py",
   "mimetype": "text/x-python",
   "name": "python",
   "nbconvert_exporter": "python",
   "pygments_lexer": "ipython3",
   "version": "3.7.1"
  }
 },
 "nbformat": 4,
 "nbformat_minor": 2
}
