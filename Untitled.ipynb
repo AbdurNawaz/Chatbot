{
 "cells": [
  {
   "cell_type": "code",
   "execution_count": 1,
   "metadata": {},
   "outputs": [],
   "source": [
    "import os\n",
    "import json\n",
    "import nltk\n",
    "from gensim import models\n",
    "import numpy as np\n",
    "from gensim import corpora, models, similarities\n",
    "import pickle\n",
    "import numpy as np\n",
    "\n",
    "model = models.KeyedVectors.load_word2vec_format('GoogleNews-vectors-negative300.bin', binary=True)"
   ]
  },
  {
   "cell_type": "code",
   "execution_count": 2,
   "metadata": {},
   "outputs": [],
   "source": [
    "with open('conversation.json', 'r') as f:\n",
    "    data = json.load(f)\n",
    "    cor = data[\"conversations\"]"
   ]
  },
  {
   "cell_type": "code",
   "execution_count": 3,
   "metadata": {},
   "outputs": [],
   "source": [
    "#Seperating Questions and answers into x and y respectively\n",
    "x = []\n",
    "y = []\n",
    "\n",
    "for i in range(len(cor)):\n",
    "    for j in range(len(cor[i])-1):\n",
    "        x.append(cor[i][j])\n",
    "        y.append(cor[i][j+1])"
   ]
  },
  {
   "cell_type": "code",
   "execution_count": 4,
   "metadata": {},
   "outputs": [
    {
     "data": {
      "text/plain": [
       "['Good morning, how are you?',\n",
       " 'I am doing well, how about you?',\n",
       " \"I'm also good.\",\n",
       " \"That's good to hear.\",\n",
       " 'Hello',\n",
       " 'Hi',\n",
       " 'How are you doing?',\n",
       " 'I am doing well.',\n",
       " 'That is good to hear',\n",
       " 'Yes it is.']"
      ]
     },
     "execution_count": 4,
     "metadata": {},
     "output_type": "execute_result"
    }
   ],
   "source": [
    "x[:10]"
   ]
  },
  {
   "cell_type": "code",
   "execution_count": 5,
   "metadata": {},
   "outputs": [
    {
     "data": {
      "text/plain": [
       "['I am doing well, how about you?',\n",
       " \"I'm also good.\",\n",
       " \"That's good to hear.\",\n",
       " 'Yes it is.',\n",
       " 'Hi',\n",
       " 'How are you doing?',\n",
       " 'I am doing well.',\n",
       " 'That is good to hear',\n",
       " 'Yes it is.',\n",
       " 'Can I help you with anything?']"
      ]
     },
     "execution_count": 5,
     "metadata": {},
     "output_type": "execute_result"
    }
   ],
   "source": [
    "y[:10]"
   ]
  },
  {
   "cell_type": "code",
   "execution_count": 8,
   "metadata": {},
   "outputs": [],
   "source": [
    "tok_x = []\n",
    "tok_y = []\n",
    "\n",
    "for i in range(len(x)):\n",
    "    tok_x.append(nltk.word_tokenize(x[i].lower()))\n",
    "    tok_y.append(nltk.word_tokenize(y[i].lower()))"
   ]
  },
  {
   "cell_type": "code",
   "execution_count": 9,
   "metadata": {},
   "outputs": [
    {
     "data": {
      "text/plain": [
       "[['good', 'morning', ',', 'how', 'are', 'you', '?'],\n",
       " ['i', 'am', 'doing', 'well', ',', 'how', 'about', 'you', '?'],\n",
       " ['i', \"'m\", 'also', 'good', '.'],\n",
       " ['that', \"'s\", 'good', 'to', 'hear', '.'],\n",
       " ['hello'],\n",
       " ['hi'],\n",
       " ['how', 'are', 'you', 'doing', '?'],\n",
       " ['i', 'am', 'doing', 'well', '.'],\n",
       " ['that', 'is', 'good', 'to', 'hear'],\n",
       " ['yes', 'it', 'is', '.']]"
      ]
     },
     "execution_count": 9,
     "metadata": {},
     "output_type": "execute_result"
    }
   ],
   "source": [
    "tok_x[:10]"
   ]
  },
  {
   "cell_type": "code",
   "execution_count": 17,
   "metadata": {},
   "outputs": [],
   "source": [
    "vec_x = []\n",
    "vec_y = []\n",
    "\n",
    "for sent in tok_x:\n",
    "    sentvec = [model[w] for w in sent if w in model.vocab]\n",
    "    vec_x.append(sentvec)\n",
    "\n",
    "for sent in tok_y:\n",
    "    sentvec = [model[w] for w in sent if w in model.vocab]\n",
    "    vec_y.append(sentvec)"
   ]
  },
  {
   "cell_type": "code",
   "execution_count": 22,
   "metadata": {},
   "outputs": [],
   "source": [
    "#Clipping each sentence to length 15 and padding with a vector of\n",
    "#ones to th sentences with length<15\n",
    "\n",
    "sentend = np.ones((300, ), dtype=np.float32)\n",
    "\n",
    "for tok_sent in vec_x:\n",
    "    tok_sent[14: ] =[]\n",
    "    tok_sent.append(sentend)\n",
    "    \n",
    "for tok_sent in vec_x:\n",
    "    if(len(tok_sent)<15):\n",
    "        for i in range(15-len(tok_sent)):\n",
    "            tok_sent.append(sentend)\n",
    "            \n",
    "for tok_sent in vec_y:\n",
    "    tok_sent[14: ] =[]\n",
    "    tok_sent.append(sentend)\n",
    "    \n",
    "for tok_sent in vec_y:\n",
    "    if(len(tok_sent)<15):\n",
    "        for i in range(15-len(tok_sent)):\n",
    "            tok_sent.append(sentend)"
   ]
  },
  {
   "cell_type": "code",
   "execution_count": 27,
   "metadata": {},
   "outputs": [],
   "source": [
    "with open('conversation.pickle','wb') as f:\n",
    "    pickle.dump([vec_x,vec_y],f)"
   ]
  }
 ],
 "metadata": {
  "kernelspec": {
   "display_name": "Python 3",
   "language": "python",
   "name": "python3"
  },
  "language_info": {
   "codemirror_mode": {
    "name": "ipython",
    "version": 3
   },
   "file_extension": ".py",
   "mimetype": "text/x-python",
   "name": "python",
   "nbconvert_exporter": "python",
   "pygments_lexer": "ipython3",
   "version": "3.7.1"
  }
 },
 "nbformat": 4,
 "nbformat_minor": 2
}
